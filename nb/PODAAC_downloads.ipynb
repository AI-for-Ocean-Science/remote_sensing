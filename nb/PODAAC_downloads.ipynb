{
 "cells": [
  {
   "cell_type": "markdown",
   "id": "9726424f-18a1-410b-ac8f-451c735a6b20",
   "metadata": {},
   "source": [
    "# Downloading from PODAAC"
   ]
  },
  {
   "cell_type": "code",
   "execution_count": 4,
   "id": "b2a22104-5643-4eb7-ac08-fd991a2b9150",
   "metadata": {},
   "outputs": [],
   "source": [
    "from importlib import reload\n",
    "\n",
    "from remote_sensing.download import podaac"
   ]
  },
  {
   "cell_type": "markdown",
   "id": "1290e03c-14ce-440c-8c89-d7333149fcb2",
   "metadata": {},
   "source": [
    "# Prep"
   ]
  },
  {
   "cell_type": "markdown",
   "id": "09547d1f-87f2-448c-9adb-6751192c8112",
   "metadata": {},
   "source": [
    "## You need to have an Earthdata account and setup the authentication as described here:\n",
    "\n",
    "https://github.com/podaac/data-subscriber"
   ]
  },
  {
   "cell_type": "markdown",
   "id": "f1a4084c-c37e-49d0-8428-e428661a79e1",
   "metadata": {},
   "source": [
    "# Lets grab the file list last day's worth of AMSR2 data\n",
    "\n",
    "## All we need is the PODAAC collection of interest, here AMSR2-REMSS-L2P_RT-v8.2"
   ]
  },
  {
   "cell_type": "code",
   "execution_count": 7,
   "id": "d3d3fb1d-4d28-4c62-835a-9edf9bb2b159",
   "metadata": {},
   "outputs": [],
   "source": [
    "reload(podaac)\n",
    "data_files, checksums = podaac.grab_file_list('AMSR2-REMSS-L2P_RT-v8.2', dt_past=dict(days=1))"
   ]
  },
  {
   "cell_type": "code",
   "execution_count": 8,
   "id": "fb5f74be-876d-4693-a795-76c2efb0c2fd",
   "metadata": {},
   "outputs": [
    {
     "data": {
      "text/plain": [
       "['https://archive.podaac.earthdata.nasa.gov/podaac-ops-cumulus-protected/AMSR2-REMSS-L2P_RT-v8.2/20250202034948-REMSS-L2P_GHRSST-SSTsubskin-AMSR2-L2B_rt_r67622-v02.0-fv01.0.nc',\n",
       " 'https://archive.podaac.earthdata.nasa.gov/podaac-ops-cumulus-protected/AMSR2-REMSS-L2P_RT-v8.2/20250202021056-REMSS-L2P_GHRSST-SSTsubskin-AMSR2-L2B_rt_r67621-v02.0-fv01.0.nc',\n",
       " 'https://archive.podaac.earthdata.nasa.gov/podaac-ops-cumulus-protected/AMSR2-REMSS-L2P_RT-v8.2/20250202003203-REMSS-L2P_GHRSST-SSTsubskin-AMSR2-L2B_rt_r67620-v02.0-fv01.0.nc',\n",
       " 'https://archive.podaac.earthdata.nasa.gov/podaac-ops-cumulus-protected/AMSR2-REMSS-L2P_RT-v8.2/20250201225311-REMSS-L2P_GHRSST-SSTsubskin-AMSR2-L2B_rt_r67619-v02.0-fv01.0.nc',\n",
       " 'https://archive.podaac.earthdata.nasa.gov/podaac-ops-cumulus-protected/AMSR2-REMSS-L2P_RT-v8.2/20250201211418-REMSS-L2P_GHRSST-SSTsubskin-AMSR2-L2B_rt_r67618-v02.0-fv01.0.nc',\n",
       " 'https://archive.podaac.earthdata.nasa.gov/podaac-ops-cumulus-protected/AMSR2-REMSS-L2P_RT-v8.2/20250201193524-REMSS-L2P_GHRSST-SSTsubskin-AMSR2-L2B_rt_r67617-v02.0-fv01.0.nc']"
      ]
     },
     "execution_count": 8,
     "metadata": {},
     "output_type": "execute_result"
    }
   ],
   "source": [
    "data_files"
   ]
  },
  {
   "cell_type": "markdown",
   "id": "83b4f9f4-36e4-4791-b7df-8582bb659cb8",
   "metadata": {},
   "source": [
    "# Now let's download them \n",
    "\n",
    "## The default folder is $\\$$OS_RS/PODAAC/collection \n",
    "\n",
    "### where $\\$$OS_RS is an environmental variable you need to set  \n",
    "### and \"collection\" is the PODAAC resolved \n",
    "\n",
    "## If it $\\$$OS_RS isn't set then the path will be ./PODAAC/collection"
   ]
  },
  {
   "cell_type": "code",
   "execution_count": 9,
   "id": "af10e0e3-b83e-4fdb-a4dc-6ba9efad8380",
   "metadata": {},
   "outputs": [
    {
     "name": "stdout",
     "output_type": "stream",
     "text": [
      "Using default download directory: ./PODAAC\n",
      "Creating directory: ./PODAAC/AMSR2-REMSS-L2P_RT-v8.2\n",
      "File downloaded: ./PODAAC/AMSR2-REMSS-L2P_RT-v8.2/20250202034948-REMSS-L2P_GHRSST-SSTsubskin-AMSR2-L2B_rt_r67622-v02.0-fv01.0.nc\n",
      "File downloaded: ./PODAAC/AMSR2-REMSS-L2P_RT-v8.2/20250202021056-REMSS-L2P_GHRSST-SSTsubskin-AMSR2-L2B_rt_r67621-v02.0-fv01.0.nc\n",
      "File downloaded: ./PODAAC/AMSR2-REMSS-L2P_RT-v8.2/20250202003203-REMSS-L2P_GHRSST-SSTsubskin-AMSR2-L2B_rt_r67620-v02.0-fv01.0.nc\n",
      "File downloaded: ./PODAAC/AMSR2-REMSS-L2P_RT-v8.2/20250201225311-REMSS-L2P_GHRSST-SSTsubskin-AMSR2-L2B_rt_r67619-v02.0-fv01.0.nc\n",
      "File downloaded: ./PODAAC/AMSR2-REMSS-L2P_RT-v8.2/20250201211418-REMSS-L2P_GHRSST-SSTsubskin-AMSR2-L2B_rt_r67618-v02.0-fv01.0.nc\n",
      "File downloaded: ./PODAAC/AMSR2-REMSS-L2P_RT-v8.2/20250201193524-REMSS-L2P_GHRSST-SSTsubskin-AMSR2-L2B_rt_r67617-v02.0-fv01.0.nc\n"
     ]
    }
   ],
   "source": [
    "reload(podaac)\n",
    "podaac.download_files(data_files)"
   ]
  },
  {
   "cell_type": "markdown",
   "id": "f9bddc2b-b629-4a23-a08a-6fe6bcd0d5df",
   "metadata": {},
   "source": [
    "## If we try again, we get:"
   ]
  },
  {
   "cell_type": "code",
   "execution_count": 10,
   "id": "153150f3-8bd9-4799-b467-b24ea08d7011",
   "metadata": {},
   "outputs": [
    {
     "name": "stdout",
     "output_type": "stream",
     "text": [
      "Using default download directory: ./PODAAC\n",
      "File exists: 20250202034948-REMSS-L2P_GHRSST-SSTsubskin-AMSR2-L2B_rt_r67622-v02.0-fv01.0.nc\n",
      "  --- Use clobber=True to overwrite\n",
      "File exists: 20250202021056-REMSS-L2P_GHRSST-SSTsubskin-AMSR2-L2B_rt_r67621-v02.0-fv01.0.nc\n",
      "  --- Use clobber=True to overwrite\n",
      "File exists: 20250202003203-REMSS-L2P_GHRSST-SSTsubskin-AMSR2-L2B_rt_r67620-v02.0-fv01.0.nc\n",
      "  --- Use clobber=True to overwrite\n",
      "File exists: 20250201225311-REMSS-L2P_GHRSST-SSTsubskin-AMSR2-L2B_rt_r67619-v02.0-fv01.0.nc\n",
      "  --- Use clobber=True to overwrite\n",
      "File exists: 20250201211418-REMSS-L2P_GHRSST-SSTsubskin-AMSR2-L2B_rt_r67618-v02.0-fv01.0.nc\n",
      "  --- Use clobber=True to overwrite\n",
      "File exists: 20250201193524-REMSS-L2P_GHRSST-SSTsubskin-AMSR2-L2B_rt_r67617-v02.0-fv01.0.nc\n",
      "  --- Use clobber=True to overwrite\n"
     ]
    }
   ],
   "source": [
    "podaac.download_files(data_files)"
   ]
  },
  {
   "cell_type": "code",
   "execution_count": null,
   "id": "be5c129e-50bb-40db-85bd-95ba849e214c",
   "metadata": {},
   "outputs": [],
   "source": []
  }
 ],
 "metadata": {
  "kernelspec": {
   "display_name": "Python 3 (ipykernel)",
   "language": "python",
   "name": "python3"
  },
  "language_info": {
   "codemirror_mode": {
    "name": "ipython",
    "version": 3
   },
   "file_extension": ".py",
   "mimetype": "text/x-python",
   "name": "python",
   "nbconvert_exporter": "python",
   "pygments_lexer": "ipython3",
   "version": "3.12.2"
  }
 },
 "nbformat": 4,
 "nbformat_minor": 5
}
