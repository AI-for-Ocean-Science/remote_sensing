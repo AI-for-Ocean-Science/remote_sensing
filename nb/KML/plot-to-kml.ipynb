{
 "cells": [
  {
   "cell_type": "code",
   "execution_count": null,
   "metadata": {},
   "outputs": [],
   "source": [
    "## Import libraries and define a colorbar function: \n",
    "\n",
    "import simplekml\n",
    "import kml_utils as kml\n",
    "import matplotlib.pyplot as plt\n",
    "\n",
    "def kml_colorbar(im,label,filename):\n",
    "    # im = matplotlib plot \n",
    "\n",
    "    fig = plt.figure(figsize=(1.0, 4.0), facecolor=None, frameon=False)\n",
    "    ax = fig.add_axes([0.0, 0.05, 0.2, 0.9])\n",
    "    cb = fig.colorbar(im, cax=ax)\n",
    "    cb.set_label(label,color='white',rotation=90)\n",
    "    cb.ax.tick_params(which='both', color='white', labelcolor='white')\n",
    "    fig.savefig(colorbarFolder+filename, transparent=True, format='png',dpi=100) "
   ]
  },
  {
   "cell_type": "code",
   "execution_count": null,
   "metadata": {},
   "outputs": [],
   "source": [
    "## Create and save your figure to png without a colorbar, then call kml_colorbar() on your plot, saving it to a separate png.\n",
    "\n",
    "# set a bounding box for your figure using the corners of your plot\n",
    "lon_min = \n",
    "lat_min =\n",
    "lon_max =\n",
    "lat_max =\n",
    "\n",
    "\n",
    "kml.make_kml(llcrnrlon=lon_min, llcrnrlat=lat_min,\n",
    "        urcrnrlon=lon_max, urcrnrlat=lat_max,\n",
    "        figs=['figure.png'], colorbar='colorbar.png',\n",
    "        kmzfile='figure.kmz', name='google_earth_display_name')"
   ]
  },
  {
   "cell_type": "code",
   "execution_count": null,
   "metadata": {},
   "outputs": [],
   "source": []
  }
 ],
 "metadata": {
  "kernelspec": {
   "display_name": "Python 3 (ipykernel)",
   "language": "python",
   "name": "python3"
  },
  "language_info": {
   "codemirror_mode": {
    "name": "ipython",
    "version": 3
   },
   "file_extension": ".py",
   "mimetype": "text/x-python",
   "name": "python",
   "nbconvert_exporter": "python",
   "pygments_lexer": "ipython3",
   "version": "3.12.2"
  }
 },
 "nbformat": 4,
 "nbformat_minor": 4
}
